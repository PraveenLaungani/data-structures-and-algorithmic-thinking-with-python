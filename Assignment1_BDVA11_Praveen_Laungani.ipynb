{
 "cells": [
  {
   "cell_type": "markdown",
   "metadata": {},
   "source": [
    "# Check Duplicates"
   ]
  },
  {
   "cell_type": "code",
   "execution_count": 1,
   "metadata": {},
   "outputs": [],
   "source": [
    "#bruteforce\n",
    "def checkDuplicates(A):\n",
    "    i = 0\n",
    "    j = 0\n",
    "    for i in range(len(A)):\n",
    "        for j in range(i+1, len(A)):\n",
    "            if A[i] == A[j]:\n",
    "                return True\n",
    "    return False"
   ]
  },
  {
   "cell_type": "code",
   "execution_count": 2,
   "metadata": {},
   "outputs": [],
   "source": [
    "#sorting\n",
    "def checkDuplicates2(A):\n",
    "    A.sort()\n",
    "    for i in range(len(A)-1):\n",
    "        if A[i] == A[i+1]:\n",
    "            return True\n",
    "    return False"
   ]
  },
  {
   "cell_type": "code",
   "execution_count": 7,
   "metadata": {},
   "outputs": [],
   "source": [
    "#hashing\n",
    "\n",
    "def checkDuplicates3(A):\n",
    "    dic={}\n",
    "    for i in A:\n",
    "        if i in dic.keys():\n",
    "            return True\n",
    "        else:\n",
    "            dic[i]=1\n",
    "    return False"
   ]
  },
  {
   "cell_type": "code",
   "execution_count": 4,
   "metadata": {},
   "outputs": [],
   "source": [
    "#negation technique\n",
    "\n",
    "def checkDuplicates4(A):\n",
    "    for i in range(len(A)):\n",
    "        if A[abs(A[i])]<0:\n",
    "            return True\n",
    "        else:\n",
    "            A[abs(A[i])] = -1*A[abs(A[i])]\n",
    "    return False"
   ]
  },
  {
   "cell_type": "code",
   "execution_count": 5,
   "metadata": {},
   "outputs": [],
   "source": [
    "A = [3,2,1,2,2,3]"
   ]
  },
  {
   "cell_type": "code",
   "execution_count": 8,
   "metadata": {},
   "outputs": [
    {
     "name": "stdout",
     "output_type": "stream",
     "text": [
      "True\n",
      "True\n",
      "True\n",
      "True\n"
     ]
    }
   ],
   "source": [
    "print(checkDuplicates(A))\n",
    "print(checkDuplicates2(A))\n",
    "print(checkDuplicates3(A))\n",
    "print(checkDuplicates4(A))"
   ]
  },
  {
   "cell_type": "markdown",
   "metadata": {},
   "source": [
    "# Max Duplicates"
   ]
  },
  {
   "cell_type": "code",
   "execution_count": 10,
   "metadata": {},
   "outputs": [],
   "source": [
    "#Bruteforce\n",
    "\n",
    "def maxdup1(A):\n",
    "    maxd = 0\n",
    "    elem = []\n",
    "    for i in range(len(A)-1):\n",
    "        du = 0\n",
    "        for j in range(i+1,len(A)):\n",
    "            if A[i] == A[j]:\n",
    "                du = du + 1\n",
    "                #print(du)\n",
    "                \n",
    "        if du == maxd and du != 0:\n",
    "            maxd = du\n",
    "            elem.append(A[i])\n",
    "        elif du > maxd:\n",
    "            maxd = du\n",
    "            elem.append(A[i])\n",
    "    return elem\n",
    "\n"
   ]
  },
  {
   "cell_type": "code",
   "execution_count": 12,
   "metadata": {},
   "outputs": [],
   "source": [
    "#Sorting\n",
    "\n",
    "def maxdup2(A):\n",
    "    A.sort()\n",
    "    du2 = 0\n",
    "    maxd2 = 0\n",
    "    elem2 = []\n",
    "    \n",
    "    for i in range(1,len(A)):\n",
    "        if A[i-1] == A[i]:\n",
    "            du2 = du2 + 1\n",
    "        else:\n",
    "            if maxd2<=du2 and du2!=0:\n",
    "                maxd2=du2\n",
    "                elem2.append(A[i-1])\n",
    "            du2=0\n",
    "    if du2==maxd2 and du2 != 0:\n",
    "        du2=maxd2\n",
    "        elem2.append(A[i])\n",
    "        \n",
    "    elif maxd2<du2:\n",
    "        maxd2=du2\n",
    "        elem2.clear()\n",
    "        elem2.append(A[i])\n",
    "    return elem2\n",
    "\n"
   ]
  },
  {
   "cell_type": "code",
   "execution_count": 13,
   "metadata": {},
   "outputs": [],
   "source": [
    "#hashing\n",
    "\n",
    "def maxdup3(A):\n",
    "    dic={}\n",
    "    elem3=[]\n",
    "    for i in A:\n",
    "        if i in dic.keys():\n",
    "            dic[i] = dic[i] + 1\n",
    "        else:\n",
    "            dic[i]=1\n",
    "    val=max(dic.values())\n",
    "    for k,v in dic.items():\n",
    "        if v==val:\n",
    "            elem3.append(k)\n",
    "    return elem3\n",
    "\n"
   ]
  },
  {
   "cell_type": "code",
   "execution_count": 15,
   "metadata": {},
   "outputs": [],
   "source": [
    "B = [3,2,2,5,1,3,5,3,2,5]"
   ]
  },
  {
   "cell_type": "code",
   "execution_count": 16,
   "metadata": {},
   "outputs": [
    {
     "name": "stdout",
     "output_type": "stream",
     "text": [
      "[3, 2, 5]\n",
      "[2, 3, 5]\n",
      "[2, 3, 5]\n"
     ]
    }
   ],
   "source": [
    "\n",
    "print(maxdup1(B))\n",
    "print(maxdup2(B))\n",
    "print(maxdup3(B))"
   ]
  },
  {
   "cell_type": "code",
   "execution_count": null,
   "metadata": {},
   "outputs": [],
   "source": []
  }
 ],
 "metadata": {
  "kernelspec": {
   "display_name": "Python 3",
   "language": "python",
   "name": "python3"
  },
  "language_info": {
   "codemirror_mode": {
    "name": "ipython",
    "version": 3
   },
   "file_extension": ".py",
   "mimetype": "text/x-python",
   "name": "python",
   "nbconvert_exporter": "python",
   "pygments_lexer": "ipython3",
   "version": "3.7.4"
  }
 },
 "nbformat": 4,
 "nbformat_minor": 4
}
