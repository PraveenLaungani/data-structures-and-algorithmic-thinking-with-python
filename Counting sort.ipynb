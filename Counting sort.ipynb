{
 "cells": [
  {
   "cell_type": "code",
   "execution_count": 8,
   "metadata": {},
   "outputs": [],
   "source": [
    "def CountingSort(A,n):\n",
    "    \n",
    "    counts = [0] * (n+1)\n",
    "    \n",
    "    for i in A:\n",
    "        counts[i] = counts[i] + 1\n",
    "        \n",
    "    p = 0\n",
    "    \n",
    "    for k in range(n+1):\n",
    "        for l in range(counts[k]):\n",
    "            A[p] = k\n",
    "            p = p + 1\n",
    "    \n",
    "    return A"
   ]
  },
  {
   "cell_type": "code",
   "execution_count": 9,
   "metadata": {},
   "outputs": [
    {
     "name": "stdout",
     "output_type": "stream",
     "text": [
      "[1, 3, 4, 4, 5, 5, 6, 7, 7, 8, 8, 9]\n"
     ]
    }
   ],
   "source": [
    "print(CountingSort([1,5,8,7,6,5,4,3,4,9,8,7],10))"
   ]
  },
  {
   "cell_type": "code",
   "execution_count": null,
   "metadata": {},
   "outputs": [],
   "source": []
  }
 ],
 "metadata": {
  "kernelspec": {
   "display_name": "Python 3",
   "language": "python",
   "name": "python3"
  },
  "language_info": {
   "codemirror_mode": {
    "name": "ipython",
    "version": 3
   },
   "file_extension": ".py",
   "mimetype": "text/x-python",
   "name": "python",
   "nbconvert_exporter": "python",
   "pygments_lexer": "ipython3",
   "version": "3.7.4"
  }
 },
 "nbformat": 4,
 "nbformat_minor": 4
}
